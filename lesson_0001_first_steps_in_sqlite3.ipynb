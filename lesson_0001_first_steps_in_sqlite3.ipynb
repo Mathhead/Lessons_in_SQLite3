{
 "cells": [
  {
   "cell_type": "markdown",
   "metadata": {},
   "source": [
    "# Lesson 0001 - First Steps with SQLite3\n",
    "This is a tutorial on databases with Python. We will employ [Sqlite3](https://docs.python.org/3/library/sqlite3.html) and follow the book \"Datenbanken - Konzepte und Sprachen\" by Saake, Sattler and Heuer.<br>\n",
    "We start with importing [Sqlite3](https://docs.python.org/3/library/sqlite3.html)."
   ]
  },
  {
   "cell_type": "code",
   "execution_count": 1,
   "metadata": {},
   "outputs": [
    {
     "name": "stdout",
     "output_type": "stream",
     "text": [
      "2.6.0\n"
     ]
    }
   ],
   "source": [
    "import sqlite3\n",
    "\n",
    "print( sqlite3.version )"
   ]
  },
  {
   "cell_type": "markdown",
   "metadata": {},
   "source": [
    "First, we [connect](https://docs.python.org/3/library/sqlite3.html) to a database file, which is in our case nonexistant. Therefore, a new database file is created."
   ]
  },
  {
   "cell_type": "code",
   "execution_count": 2,
   "metadata": {},
   "outputs": [],
   "source": [
    "conn = sqlite3.connect( \"C:\\\\Users\\\\rhopi\\\\OneDrive\\\\Desktop\\\\python dev\\\\database dev\\\\lesson_0001\\\\database.file\" )"
   ]
  },
  {
   "cell_type": "markdown",
   "metadata": {},
   "source": [
    "Now that we have created a new database, we create a [cursor](https://docs.python.org/3/library/sqlite3.html), through which, we can operate on the database."
   ]
  },
  {
   "cell_type": "code",
   "execution_count": 3,
   "metadata": {},
   "outputs": [],
   "source": [
    "cursor = conn.cursor()"
   ]
  },
  {
   "cell_type": "markdown",
   "metadata": {},
   "source": [
    "Following the book by Saake et al., we create a simple database for vines.<br>\n",
    "We create a new table using [create table](https://docs.python.org/3/library/sqlite3.html).<br>\n",
    "This new table will be called PRODUCER. This table has $3$ attributes: PRODUCER_NAME, VINE_REGION and GEOGRAPHIC_REGION. All attributes have the datatype varchar(20) which means, that these attributes will be character strings of varying length up to a length of 20 characters. We make PRODUCER_NAME the __primary key__. This means, that each row in the table will be identified by the PRODUCER_NAME which therefore has to be unique. By forcing PRODUCER_NAME to be __NOT NULL__, we make sure, that each PRODUCER has a name.<br>\n",
    "We formulate this into a string which is [executed](https://docs.python.org/3/library/sqlite3.html).<br>\n",
    "Then, we [commit](https://docs.python.org/3/library/sqlite3.html) the changes and [close](https://docs.python.org/3/library/sqlite3.html) the connection."
   ]
  },
  {
   "cell_type": "code",
   "execution_count": 4,
   "metadata": {},
   "outputs": [],
   "source": [
    "SQL_string = \"CREATE TABLE PRODUCER ( PRODUCER_NAME VARCHAR(20) NOT NULL, VINE_REGION VARCHAR(20),\\\n",
    "GEOGRAPHIC_REGION VARCHAR(20), PRIMARY KEY( PRODUCER_NAME ) )\"\n",
    "\n",
    "cursor.execute( SQL_string )\n",
    "\n",
    "conn.commit()\n",
    "\n",
    "conn.close()"
   ]
  },
  {
   "cell_type": "markdown",
   "metadata": {},
   "source": [
    "Now, we open the database again. This time, we create a new table, VINE. Its primary key will be VINE_ID, its datatype INTEGER. There will also be the attribute NAME, which we demand to be NOT NULL and VARCHAR(20). The attribute COLOUR will be VARCHAR(20). The attribute YEAR will be INTEGER. The attribute PRODUCER will be VARCHAR(20) and, as a __foreign key__ reference an entry of the table PRODUCER."
   ]
  },
  {
   "cell_type": "code",
   "execution_count": 5,
   "metadata": {},
   "outputs": [],
   "source": [
    "conn = sqlite3.connect( \"C:\\\\Users\\\\rhopi\\\\OneDrive\\\\Desktop\\\\python dev\\\\database dev\\\\lesson_0001\\\\database.file\" )\n",
    "\n",
    "cursor = conn.cursor()\n",
    "\n",
    "SQL_string = \"CREATE TABLE VINE ( VINE_ID INTEGER NOT NULL, NAME VARCHAR(20) NOT NULL, COLOUR VARCHAR(20),\\\n",
    "YEAR INTEGER, PRODUCER VARCHAR(20), PRIMARY KEY( VINE_ID ),\\\n",
    "FOREIGN KEY( PRODUCER ) REFERENCES PRODUCER( PRODUCER_NAME ) )\"\n",
    "\n",
    "cursor.execute( SQL_string )\n",
    "\n",
    "conn.commit()\n",
    "\n",
    "conn.close()"
   ]
  },
  {
   "cell_type": "markdown",
   "metadata": {},
   "source": [
    "Now, we fill in some data. Since VINE dependes on PRODUCER, we first have to fill in some data into PRODUCER."
   ]
  },
  {
   "cell_type": "code",
   "execution_count": 6,
   "metadata": {},
   "outputs": [],
   "source": [
    "conn = sqlite3.connect( \"C:\\\\Users\\\\rhopi\\\\OneDrive\\\\Desktop\\\\python dev\\\\database dev\\\\lesson_0001\\\\database.file\" )\n",
    "\n",
    "cursor = conn.cursor()\n",
    "\n",
    "SQL_string = \"INSERT INTO PRODUCER VALUES ( \\\"Creek\\\", \\\"Barossa Valley\\\", \\\"Southern Australia\\\" )\"\n",
    "\n",
    "cursor.execute( SQL_string )\n",
    "\n",
    "SQL_string = \"INSERT INTO PRODUCER VALUES ( \\\"Helena\\\", \\\"Napa Valley\\\", \\\"California\\\" )\"\n",
    "\n",
    "cursor.execute( SQL_string )\n",
    "\n",
    "SQL_string = \"INSERT INTO PRODUCER VALUES ( \\\"Châteu La Rose\\\", \\\"Saint-Émilion\\\", \\\"Bourdeaux\\\" )\"\n",
    "\n",
    "cursor.execute( SQL_string )\n",
    "\n",
    "SQL_string = \"INSERT INTO PRODUCER VALUES ( \\\"Châteu La Pointe\\\", \\\"Pomerol\\\", \\\"Bourdeaux\\\" )\"\n",
    "\n",
    "cursor.execute( SQL_string )\n",
    "\n",
    "SQL_string = \"INSERT INTO PRODUCER VALUES ( \\\"Müller\\\", \\\"Rheingau\\\", \\\"Hessen\\\" )\"\n",
    "\n",
    "cursor.execute( SQL_string )\n",
    "\n",
    "SQL_string = \"INSERT INTO PRODUCER VALUES ( \\\"Bighorn\\\", \\\"Napa Valley\\\", \\\"California\\\" )\"\n",
    "\n",
    "cursor.execute( SQL_string )\n",
    "\n",
    "conn.commit()\n",
    "\n",
    "conn.close()"
   ]
  },
  {
   "cell_type": "markdown",
   "metadata": {},
   "source": [
    "To test, whether the data really are in the database, we query the data."
   ]
  },
  {
   "cell_type": "code",
   "execution_count": 7,
   "metadata": {},
   "outputs": [
    {
     "name": "stdout",
     "output_type": "stream",
     "text": [
      "('Creek', 'Barossa Valley', 'Southern Australia')\n",
      "('Helena', 'Napa Valley', 'California')\n",
      "('Châteu La Rose', 'Saint-Émilion', 'Bourdeaux')\n",
      "('Châteu La Pointe', 'Pomerol', 'Bourdeaux')\n",
      "('Müller', 'Rheingau', 'Hessen')\n",
      "('Bighorn', 'Napa Valley', 'California')\n"
     ]
    }
   ],
   "source": [
    "conn = sqlite3.connect( \"C:\\\\Users\\\\rhopi\\\\OneDrive\\\\Desktop\\\\python dev\\\\database dev\\\\lesson_0001\\\\database.file\" )\n",
    "\n",
    "cursor = conn.cursor()\n",
    "\n",
    "SQL_string = \"SELECT * FROM PRODUCER\"\n",
    "\n",
    "rows = cursor.execute( SQL_string ).fetchall()\n",
    "\n",
    "conn.close()\n",
    "\n",
    "\n",
    "\n",
    "\n",
    "for row in rows:\n",
    "    \n",
    "    print( row )"
   ]
  },
  {
   "cell_type": "markdown",
   "metadata": {},
   "source": [
    "Maybe, we are just interested in the unique GEOGRAPHIC_REGIONs. For this, we employ the selector DISTINCT."
   ]
  },
  {
   "cell_type": "code",
   "execution_count": 8,
   "metadata": {},
   "outputs": [
    {
     "name": "stdout",
     "output_type": "stream",
     "text": [
      "('Southern Australia',)\n",
      "('California',)\n",
      "('Bourdeaux',)\n",
      "('Hessen',)\n"
     ]
    }
   ],
   "source": [
    "conn = sqlite3.connect( \"C:\\\\Users\\\\rhopi\\\\OneDrive\\\\Desktop\\\\python dev\\\\database dev\\\\lesson_0001\\\\database.file\" )\n",
    "\n",
    "cursor = conn.cursor()\n",
    "\n",
    "SQL_string = \"SELECT DISTINCT GEOGRAPHIC_REGION FROM PRODUCER\"\n",
    "\n",
    "rows = cursor.execute( SQL_string ).fetchall()\n",
    "\n",
    "conn.close()\n",
    "\n",
    "\n",
    "\n",
    "\n",
    "for row in rows:\n",
    "    \n",
    "    print( row )"
   ]
  },
  {
   "cell_type": "markdown",
   "metadata": {},
   "source": [
    "Maybe, we are just interested in the unique GEOGRAPHIC_REGIONs, and we want the answer to be ordered. For this, we employ the selector ORDER BY."
   ]
  },
  {
   "cell_type": "code",
   "execution_count": 9,
   "metadata": {},
   "outputs": [
    {
     "name": "stdout",
     "output_type": "stream",
     "text": [
      "('Bourdeaux',)\n",
      "('California',)\n",
      "('Hessen',)\n",
      "('Southern Australia',)\n"
     ]
    }
   ],
   "source": [
    "conn = sqlite3.connect( \"C:\\\\Users\\\\rhopi\\\\OneDrive\\\\Desktop\\\\python dev\\\\database dev\\\\lesson_0001\\\\database.file\" )\n",
    "\n",
    "cursor = conn.cursor()\n",
    "\n",
    "SQL_string = \"SELECT DISTINCT GEOGRAPHIC_REGION FROM PRODUCER ORDER BY GEOGRAPHIC_REGION\"\n",
    "\n",
    "rows = cursor.execute( SQL_string ).fetchall()\n",
    "\n",
    "conn.close()\n",
    "\n",
    "\n",
    "\n",
    "\n",
    "for row in rows:\n",
    "    \n",
    "    print( row )"
   ]
  },
  {
   "cell_type": "markdown",
   "metadata": {},
   "source": [
    "Now, we insert values into VINE."
   ]
  },
  {
   "cell_type": "code",
   "execution_count": 10,
   "metadata": {},
   "outputs": [],
   "source": [
    "conn = sqlite3.connect( \"C:\\\\Users\\\\rhopi\\\\OneDrive\\\\Desktop\\\\python dev\\\\database dev\\\\lesson_0001\\\\database.file\" )\n",
    "\n",
    "cursor = conn.cursor()\n",
    "\n",
    "SQL_string = \"INSERT INTO VINE VALUES ( 1000, \\\"La Rose\\\", \\\"Red\\\", 2013, \\\"Château La Rose\\\" )\"\n",
    "\n",
    "cursor.execute( SQL_string )\n",
    "\n",
    "SQL_string = \"INSERT INTO VINE VALUES ( 1001, \\\"Creek Shiraz\\\", \\\"Red\\\", 2018, \\\"Creek\\\" )\"\n",
    "\n",
    "cursor.execute( SQL_string )\n",
    "\n",
    "SQL_string = \"INSERT INTO VINE VALUES ( 1002, \\\"Zinfandel\\\", \\\"Red\\\", 2015, \\\"Helena\\\" )\"\n",
    "\n",
    "cursor.execute( SQL_string )\n",
    "\n",
    "SQL_string = \"INSERT INTO VINE VALUES ( 1003, \\\"Pinot Noir\\\", \\\"Red\\\", 2014, \\\"Creek\\\" )\"\n",
    "\n",
    "cursor.execute( SQL_string )\n",
    "\n",
    "SQL_string = \"INSERT INTO VINE VALUES ( 1004, \\\"Pinot Noir\\\", \\\"Red\\\", 2013, \\\"Helena\\\" )\"\n",
    "\n",
    "cursor.execute( SQL_string )\n",
    "\n",
    "SQL_string = \"INSERT INTO VINE VALUES ( 1005, \\\"Riesling Reserve\\\", \\\"White\\\", 2017, \\\"Müller\\\" )\"\n",
    "\n",
    "cursor.execute( SQL_string )\n",
    "\n",
    "SQL_string = \"INSERT INTO VINE VALUES ( 1006, \\\"Chardonney\\\", \\\"White\\\", 2016, \\\"Bighorn\\\" )\"\n",
    "\n",
    "cursor.execute( SQL_string )\n",
    "\n",
    "conn.commit()\n",
    "\n",
    "conn.close()"
   ]
  },
  {
   "cell_type": "markdown",
   "metadata": {},
   "source": [
    "Now, we select all NAMES from VINE where the GEOGRAPHIC_REGION of the PRODUCER is California."
   ]
  },
  {
   "cell_type": "code",
   "execution_count": 11,
   "metadata": {},
   "outputs": [
    {
     "name": "stdout",
     "output_type": "stream",
     "text": [
      "('Zinfandel',)\n",
      "('Pinot Noir',)\n",
      "('Chardonney',)\n"
     ]
    }
   ],
   "source": [
    "conn = sqlite3.connect( \"C:\\\\Users\\\\rhopi\\\\OneDrive\\\\Desktop\\\\python dev\\\\database dev\\\\lesson_0001\\\\database.file\" )\n",
    "\n",
    "cursor = conn.cursor()\n",
    "\n",
    "SQL_string = \"SELECT VINE.NAME FROM VINE, PRODUCER WHERE VINE.PRODUCER = PRODUCER.PRODUCER_NAME AND \\\n",
    "PRODUCER.GEOGRAPHIC_REGION = \\\"California\\\"\"\n",
    "\n",
    "rows = cursor.execute( SQL_string ).fetchall()\n",
    "\n",
    "conn.close()\n",
    "\n",
    "\n",
    "\n",
    "\n",
    "for row in rows:\n",
    "    \n",
    "    print( row )"
   ]
  },
  {
   "cell_type": "markdown",
   "metadata": {},
   "source": [
    "Now suppose, that we erroneously stated, that the vine \"La Rose\" was produced by \"Château La Rose\", whereas it really is producd by \"Helena\". We can change this."
   ]
  },
  {
   "cell_type": "code",
   "execution_count": 12,
   "metadata": {},
   "outputs": [
    {
     "name": "stdout",
     "output_type": "stream",
     "text": [
      "(1000, 'La Rose', 'Red', 2013, 'Helena')\n",
      "(1001, 'Creek Shiraz', 'Red', 2018, 'Creek')\n",
      "(1002, 'Zinfandel', 'Red', 2015, 'Helena')\n",
      "(1003, 'Pinot Noir', 'Red', 2014, 'Creek')\n",
      "(1004, 'Pinot Noir', 'Red', 2013, 'Helena')\n",
      "(1005, 'Riesling Reserve', 'White', 2017, 'Müller')\n",
      "(1006, 'Chardonney', 'White', 2016, 'Bighorn')\n"
     ]
    }
   ],
   "source": [
    "conn = sqlite3.connect( \"C:\\\\Users\\\\rhopi\\\\OneDrive\\\\Desktop\\\\python dev\\\\database dev\\\\lesson_0001\\\\database.file\" )\n",
    "\n",
    "cursor = conn.cursor()\n",
    "\n",
    "SQL_string = \"UPDATE VINE SET PRODUCER = \\\"Helena\\\" WHERE VINE.NAME = \\\"La Rose\\\"\"\n",
    "\n",
    "cursor.execute( SQL_string )\n",
    "\n",
    "conn.commit()\n",
    "\n",
    "\n",
    "\n",
    "\n",
    "\n",
    "SQL_string = \"SELECT * FROM VINE\"\n",
    "\n",
    "rows = cursor.execute( SQL_string ).fetchall()\n",
    "\n",
    "conn.close()\n",
    "\n",
    "\n",
    "\n",
    "\n",
    "for row in rows:\n",
    "    \n",
    "    print( row )"
   ]
  },
  {
   "cell_type": "markdown",
   "metadata": {},
   "source": [
    "Since we changed the PRODUCER of \"La Rose\" to a PRODUCER in California, the result of the question for the names of vines that are produced in California should change as well."
   ]
  },
  {
   "cell_type": "code",
   "execution_count": 13,
   "metadata": {},
   "outputs": [
    {
     "name": "stdout",
     "output_type": "stream",
     "text": [
      "('La Rose',)\n",
      "('Zinfandel',)\n",
      "('Pinot Noir',)\n",
      "('Chardonney',)\n"
     ]
    }
   ],
   "source": [
    "conn = sqlite3.connect( \"C:\\\\Users\\\\rhopi\\\\OneDrive\\\\Desktop\\\\python dev\\\\database dev\\\\lesson_0001\\\\database.file\" )\n",
    "\n",
    "cursor = conn.cursor()\n",
    "\n",
    "SQL_string = \"SELECT VINE.NAME FROM VINE, PRODUCER WHERE VINE.PRODUCER = PRODUCER.PRODUCER_NAME AND \\\n",
    "PRODUCER.GEOGRAPHIC_REGION = \\\"California\\\"\"\n",
    "\n",
    "rows = cursor.execute( SQL_string ).fetchall()\n",
    "\n",
    "conn.close()\n",
    "\n",
    "\n",
    "\n",
    "\n",
    "for row in rows:\n",
    "    \n",
    "    print( row )"
   ]
  },
  {
   "cell_type": "markdown",
   "metadata": {},
   "source": [
    "Now suppose, we want to delete all vines from 2013."
   ]
  },
  {
   "cell_type": "code",
   "execution_count": 14,
   "metadata": {},
   "outputs": [
    {
     "name": "stdout",
     "output_type": "stream",
     "text": [
      "(1001, 'Creek Shiraz', 'Red', 2018, 'Creek')\n",
      "(1002, 'Zinfandel', 'Red', 2015, 'Helena')\n",
      "(1003, 'Pinot Noir', 'Red', 2014, 'Creek')\n",
      "(1005, 'Riesling Reserve', 'White', 2017, 'Müller')\n",
      "(1006, 'Chardonney', 'White', 2016, 'Bighorn')\n"
     ]
    }
   ],
   "source": [
    "conn = sqlite3.connect( \"C:\\\\Users\\\\rhopi\\\\OneDrive\\\\Desktop\\\\python dev\\\\database dev\\\\lesson_0001\\\\database.file\" )\n",
    "\n",
    "cursor = conn.cursor()\n",
    "\n",
    "SQL_string = \"DELETE FROM VINE WHERE YEAR = 2013\"\n",
    "\n",
    "cursor.execute( SQL_string )\n",
    "\n",
    "conn.commit()\n",
    "\n",
    "\n",
    "\n",
    "\n",
    "\n",
    "SQL_string = \"SELECT * FROM VINE\"\n",
    "\n",
    "rows = cursor.execute( SQL_string ).fetchall()\n",
    "\n",
    "conn.close()\n",
    "\n",
    "\n",
    "\n",
    "\n",
    "for row in rows:\n",
    "    \n",
    "    print( row )"
   ]
  },
  {
   "cell_type": "markdown",
   "metadata": {},
   "source": [
    "Now suppose, that you have customers that repeatedly ask for red vines from California. For this, we create a view, which is a new table that is created by a query of the database whenever it is called."
   ]
  },
  {
   "cell_type": "code",
   "execution_count": 15,
   "metadata": {},
   "outputs": [
    {
     "name": "stdout",
     "output_type": "stream",
     "text": [
      "(1002, 'Zinfandel', 2015, 'Helena')\n"
     ]
    }
   ],
   "source": [
    "conn = sqlite3.connect( \"C:\\\\Users\\\\rhopi\\\\OneDrive\\\\Desktop\\\\python dev\\\\database dev\\\\lesson_0001\\\\database.file\" )\n",
    "\n",
    "cursor = conn.cursor()\n",
    "\n",
    "SQL_string = \"CREATE VIEW CALIFORNIA_RED AS SELECT VINE.VINE_ID, VINE.NAME, VINE.YEAR,\\\n",
    "VINE.PRODUCER FROM VINE, PRODUCER WHERE VINE.PRODUCER = PRODUCER.PRODUCER_NAME AND \\\n",
    "PRODUCER.GEOGRAPHIC_REGION = \\\"California\\\" AND VINE.COLOUR = \\\"Red\\\"\"\n",
    "\n",
    "cursor.execute( SQL_string )\n",
    "\n",
    "conn.commit()\n",
    "\n",
    "\n",
    "\n",
    "\n",
    "\n",
    "SQL_string = \"SELECT * FROM CALIFORNIA_RED\"\n",
    "\n",
    "rows = cursor.execute( SQL_string ).fetchall()\n",
    "\n",
    "conn.close()\n",
    "\n",
    "\n",
    "\n",
    "\n",
    "for row in rows:\n",
    "    \n",
    "    print( row )"
   ]
  },
  {
   "cell_type": "markdown",
   "metadata": {},
   "source": [
    "Now suppose, that we made an error when we entered the Chardonneay from Bighorn. Let's change it to red."
   ]
  },
  {
   "cell_type": "code",
   "execution_count": 16,
   "metadata": {},
   "outputs": [
    {
     "name": "stdout",
     "output_type": "stream",
     "text": [
      "(1002, 'Zinfandel', 2015, 'Helena')\n",
      "(1006, 'Chardonney', 2016, 'Bighorn')\n"
     ]
    }
   ],
   "source": [
    "conn = sqlite3.connect( \"C:\\\\Users\\\\rhopi\\\\OneDrive\\\\Desktop\\\\python dev\\\\database dev\\\\lesson_0001\\\\database.file\" )\n",
    "\n",
    "cursor = conn.cursor()\n",
    "\n",
    "SQL_string = \"UPDATE VINE SET COLOUR = \\\"Red\\\" WHERE VINE.NAME = \\\"Chardonney\\\"\"\n",
    "\n",
    "cursor.execute( SQL_string )\n",
    "\n",
    "conn.commit()\n",
    "\n",
    "\n",
    "\n",
    "\n",
    "SQL_string = \"SELECT * FROM CALIFORNIA_RED\"\n",
    "\n",
    "rows = cursor.execute( SQL_string ).fetchall()\n",
    "\n",
    "conn.close()\n",
    "\n",
    "\n",
    "\n",
    "\n",
    "for row in rows:\n",
    "    \n",
    "    print( row )"
   ]
  },
  {
   "cell_type": "markdown",
   "metadata": {},
   "source": [
    "Ok, this was the first steps with SQLite3.<br>\n",
    "Class dismissed."
   ]
  }
 ],
 "metadata": {
  "kernelspec": {
   "display_name": "Python 3",
   "language": "python",
   "name": "python3"
  },
  "language_info": {
   "codemirror_mode": {
    "name": "ipython",
    "version": 3
   },
   "file_extension": ".py",
   "mimetype": "text/x-python",
   "name": "python",
   "nbconvert_exporter": "python",
   "pygments_lexer": "ipython3",
   "version": "3.7.3"
  }
 },
 "nbformat": 4,
 "nbformat_minor": 2
}
