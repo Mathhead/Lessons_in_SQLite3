{
 "cells": [
  {
   "cell_type": "markdown",
   "metadata": {},
   "source": [
    "# Lesson 0002 - Further steps with SQLite3\n",
    "In this lesson, we delve further into SQLite3.<br>\n",
    "We begin with stealing code from [Lesson 0001](https://github.com/Mathhead/Lessons_in_SQLite3/blob/master/lesson_0001_first_steps_in_sqlite3.ipynb)."
   ]
  },
  {
   "cell_type": "code",
   "execution_count": 1,
   "metadata": {},
   "outputs": [],
   "source": [
    "import sqlite3\n",
    "\n",
    "print( sqlite3.version )"
   ]
  },
  {
   "cell_type": "code",
   "execution_count": 2,
   "metadata": {},
   "outputs": [],
   "source": [
    "conn = sqlite3.connect( \"C:\\\\Users\\\\rhopi\\\\OneDrive\\\\Desktop\\\\python dev\\\\database dev\\\\lesson_0002\\\\database.file\" )"
   ]
  },
  {
   "cell_type": "code",
   "execution_count": 3,
   "metadata": {},
   "outputs": [],
   "source": [
    "cursor = conn.cursor()"
   ]
  },
  {
   "cell_type": "code",
   "execution_count": 4,
   "metadata": {},
   "outputs": [],
   "source": [
    "SQL_string = \"CREATE TABLE PRODUCER ( PRODUCER_NAME VARCHAR(20) NOT NULL, VINE_REGION VARCHAR(20),\\\n",
    "GEOGRAPHIC_REGION VARCHAR(20), PRIMARY KEY( PRODUCER_NAME ) )\"\n",
    "\n",
    "cursor.execute( SQL_string )\n",
    "\n",
    "conn.commit()\n",
    "\n",
    "conn.close()"
   ]
  },
  {
   "cell_type": "code",
   "execution_count": 5,
   "metadata": {},
   "outputs": [],
   "source": [
    "conn = sqlite3.connect( \"C:\\\\Users\\\\rhopi\\\\OneDrive\\\\Desktop\\\\python dev\\\\database dev\\\\lesson_0002\\\\database.file\" )\n",
    "\n",
    "cursor = conn.cursor()\n",
    "\n",
    "SQL_string = \"CREATE TABLE VINE ( VINE_ID INTEGER NOT NULL, NAME VARCHAR(20) NOT NULL, COLOUR VARCHAR(20),\\\n",
    "YEAR INTEGER, PRODUCER VARCHAR(20), PRIMARY KEY( VINE_ID ),\\\n",
    "FOREIGN KEY( PRODUCER ) REFERENCES PRODUCER( PRODUCER_NAME ) )\"\n",
    "\n",
    "cursor.execute( SQL_string )\n",
    "\n",
    "conn.commit()\n",
    "\n",
    "conn.close()"
   ]
  },
  {
   "cell_type": "code",
   "execution_count": 6,
   "metadata": {},
   "outputs": [],
   "source": [
    "conn = sqlite3.connect( \"C:\\\\Users\\\\rhopi\\\\OneDrive\\\\Desktop\\\\python dev\\\\database dev\\\\lesson_0002\\\\database.file\" )\n",
    "\n",
    "cursor = conn.cursor()\n",
    "\n",
    "SQL_string = \"INSERT INTO PRODUCER VALUES ( \\\"Creek\\\", \\\"Barossa Valley\\\", \\\"Southern Australia\\\" )\"\n",
    "\n",
    "cursor.execute( SQL_string )\n",
    "\n",
    "SQL_string = \"INSERT INTO PRODUCER VALUES ( \\\"Helena\\\", \\\"Napa Valley\\\", \\\"California\\\" )\"\n",
    "\n",
    "cursor.execute( SQL_string )\n",
    "\n",
    "SQL_string = \"INSERT INTO PRODUCER VALUES ( \\\"Château La Rose\\\", \\\"Saint-Émilion\\\", \\\"Bourdeaux\\\" )\"\n",
    "\n",
    "cursor.execute( SQL_string )\n",
    "\n",
    "SQL_string = \"INSERT INTO PRODUCER VALUES ( \\\"Château La Pointe\\\", \\\"Pomerol\\\", \\\"Bourdeaux\\\" )\"\n",
    "\n",
    "cursor.execute( SQL_string )\n",
    "\n",
    "SQL_string = \"INSERT INTO PRODUCER VALUES ( \\\"Müller\\\", \\\"Rheingau\\\", \\\"Hessen\\\" )\"\n",
    "\n",
    "cursor.execute( SQL_string )\n",
    "\n",
    "SQL_string = \"INSERT INTO PRODUCER VALUES ( \\\"Bighorn\\\", \\\"Napa Valley\\\", \\\"California\\\" )\"\n",
    "\n",
    "cursor.execute( SQL_string )\n",
    "\n",
    "conn.commit()\n",
    "\n",
    "conn.close()"
   ]
  },
  {
   "cell_type": "code",
   "execution_count": 7,
   "metadata": {},
   "outputs": [],
   "source": [
    "conn = sqlite3.connect( \"C:\\\\Users\\\\rhopi\\\\OneDrive\\\\Desktop\\\\python dev\\\\database dev\\\\lesson_0002\\\\database.file\" )\n",
    "\n",
    "cursor = conn.cursor()\n",
    "\n",
    "SQL_string = \"INSERT INTO VINE VALUES ( 1000, \\\"La Rose\\\", \\\"Red\\\", 2013, \\\"Château La Rose\\\" )\"\n",
    "\n",
    "cursor.execute( SQL_string )\n",
    "\n",
    "SQL_string = \"INSERT INTO VINE VALUES ( 1001, \\\"Creek Shiraz\\\", \\\"Red\\\", 2018, \\\"Creek\\\" )\"\n",
    "\n",
    "cursor.execute( SQL_string )\n",
    "\n",
    "SQL_string = \"INSERT INTO VINE VALUES ( 1002, \\\"Zinfandel\\\", \\\"Red\\\", 2015, \\\"Helena\\\" )\"\n",
    "\n",
    "cursor.execute( SQL_string )\n",
    "\n",
    "SQL_string = \"INSERT INTO VINE VALUES ( 1003, \\\"Pinot Noir\\\", \\\"Red\\\", 2014, \\\"Creek\\\" )\"\n",
    "\n",
    "cursor.execute( SQL_string )\n",
    "\n",
    "SQL_string = \"INSERT INTO VINE VALUES ( 1004, \\\"Pinot Noir\\\", \\\"Red\\\", 2013, \\\"Helena\\\" )\"\n",
    "\n",
    "cursor.execute( SQL_string )\n",
    "\n",
    "SQL_string = \"INSERT INTO VINE VALUES ( 1005, \\\"Riesling Reserve\\\", \\\"White\\\", 2017, \\\"Müller\\\" )\"\n",
    "\n",
    "cursor.execute( SQL_string )\n",
    "\n",
    "SQL_string = \"INSERT INTO VINE VALUES ( 1006, \\\"Chardonney\\\", \\\"White\\\", 2016, \\\"Bighorn\\\" )\"\n",
    "\n",
    "cursor.execute( SQL_string )\n",
    "\n",
    "conn.commit()\n",
    "\n",
    "conn.close()"
   ]
  },
  {
   "cell_type": "markdown",
   "metadata": {},
   "source": [
    "Now suppose, we are unhappy with the design of the database. One way to change the database is to delete a table altogether. The prompt for this is \"DROP TABLE\"."
   ]
  },
  {
   "cell_type": "code",
   "execution_count": 8,
   "metadata": {},
   "outputs": [],
   "source": [
    "conn = sqlite3.connect( \"C:\\\\Users\\\\rhopi\\\\OneDrive\\\\Desktop\\\\python dev\\\\database dev\\\\lesson_0002\\\\database.file\" )\n",
    "\n",
    "cursor = conn.cursor()\n",
    "\n",
    "SQL_string = \"DROP TABLE VINE\"\n",
    "\n",
    "cursor.execute( SQL_string )\n",
    "\n",
    "conn.commit()\n",
    "\n",
    "conn.close()"
   ]
  },
  {
   "cell_type": "markdown",
   "metadata": {},
   "source": [
    "Now, we query the data from \"VINE\". If everything worked, there will be no results."
   ]
  },
  {
   "cell_type": "code",
   "execution_count": 9,
   "metadata": {},
   "outputs": [
    {
     "ename": "OperationalError",
     "evalue": "no such table: VINE",
     "output_type": "error",
     "traceback": [
      "\u001b[1;31m---------------------------------------------------------------------------\u001b[0m",
      "\u001b[1;31mOperationalError\u001b[0m                          Traceback (most recent call last)",
      "\u001b[1;32m<ipython-input-9-56b9fabd2061>\u001b[0m in \u001b[0;36m<module>\u001b[1;34m\u001b[0m\n\u001b[0;32m      5\u001b[0m \u001b[0mSQL_string\u001b[0m \u001b[1;33m=\u001b[0m \u001b[1;34m\"SELECT * FROM VINE\"\u001b[0m\u001b[1;33m\u001b[0m\u001b[1;33m\u001b[0m\u001b[0m\n\u001b[0;32m      6\u001b[0m \u001b[1;33m\u001b[0m\u001b[0m\n\u001b[1;32m----> 7\u001b[1;33m \u001b[0mrows\u001b[0m \u001b[1;33m=\u001b[0m \u001b[0mcursor\u001b[0m\u001b[1;33m.\u001b[0m\u001b[0mexecute\u001b[0m\u001b[1;33m(\u001b[0m \u001b[0mSQL_string\u001b[0m \u001b[1;33m)\u001b[0m\u001b[1;33m.\u001b[0m\u001b[0mfetchall\u001b[0m\u001b[1;33m(\u001b[0m\u001b[1;33m)\u001b[0m\u001b[1;33m\u001b[0m\u001b[1;33m\u001b[0m\u001b[0m\n\u001b[0m\u001b[0;32m      8\u001b[0m \u001b[1;33m\u001b[0m\u001b[0m\n\u001b[0;32m      9\u001b[0m \u001b[0mconn\u001b[0m\u001b[1;33m.\u001b[0m\u001b[0mclose\u001b[0m\u001b[1;33m(\u001b[0m\u001b[1;33m)\u001b[0m\u001b[1;33m\u001b[0m\u001b[1;33m\u001b[0m\u001b[0m\n",
      "\u001b[1;31mOperationalError\u001b[0m: no such table: VINE"
     ]
    }
   ],
   "source": [
    "conn = sqlite3.connect( \"C:\\\\Users\\\\rhopi\\\\OneDrive\\\\Desktop\\\\python dev\\\\database dev\\\\lesson_0002\\\\database.file\" )\n",
    "\n",
    "cursor = conn.cursor()\n",
    "\n",
    "SQL_string = \"SELECT * FROM VINE\"\n",
    "\n",
    "rows = cursor.execute( SQL_string ).fetchall()\n",
    "\n",
    "conn.close()\n",
    "\n",
    "\n",
    "\n",
    "for row in rows:\n",
    "    \n",
    "    print( row )"
   ]
  },
  {
   "cell_type": "markdown",
   "metadata": {},
   "source": [
    "Ok,\"VINE\" is deleted. Since the connection __conn__ was not closed, we can use the open connection to recreate \"VINE\"."
   ]
  },
  {
   "cell_type": "code",
   "execution_count": 10,
   "metadata": {},
   "outputs": [],
   "source": [
    "SQL_string = \"CREATE TABLE VINE ( VINE_ID INTEGER NOT NULL, NAME VARCHAR(20) NOT NULL, COLOUR VARCHAR(20),\\\n",
    "YEAR INTEGER, PRODUCER VARCHAR(20), PRIMARY KEY( VINE_ID ),\\\n",
    "FOREIGN KEY( PRODUCER ) REFERENCES PRODUCER( PRODUCER_NAME ) )\"\n",
    "\n",
    "cursor.execute( SQL_string )\n",
    "\n",
    "conn.commit()\n",
    "\n",
    "SQL_string = \"INSERT INTO VINE VALUES ( 1000, \\\"La Rose\\\", \\\"Red\\\", 2013, \\\"Château La Rose\\\" )\"\n",
    "\n",
    "cursor.execute( SQL_string )\n",
    "\n",
    "SQL_string = \"INSERT INTO VINE VALUES ( 1001, \\\"Creek Shiraz\\\", \\\"Red\\\", 2018, \\\"Creek\\\" )\"\n",
    "\n",
    "cursor.execute( SQL_string )\n",
    "\n",
    "SQL_string = \"INSERT INTO VINE VALUES ( 1002, \\\"Zinfandel\\\", \\\"Red\\\", 2015, \\\"Helena\\\" )\"\n",
    "\n",
    "cursor.execute( SQL_string )\n",
    "\n",
    "SQL_string = \"INSERT INTO VINE VALUES ( 1003, \\\"Pinot Noir\\\", \\\"Red\\\", 2014, \\\"Creek\\\" )\"\n",
    "\n",
    "cursor.execute( SQL_string )\n",
    "\n",
    "SQL_string = \"INSERT INTO VINE VALUES ( 1004, \\\"Pinot Noir\\\", \\\"Red\\\", 2013, \\\"Helena\\\" )\"\n",
    "\n",
    "cursor.execute( SQL_string )\n",
    "\n",
    "SQL_string = \"INSERT INTO VINE VALUES ( 1005, \\\"Riesling Reserve\\\", \\\"White\\\", 2017, \\\"Müller\\\" )\"\n",
    "\n",
    "cursor.execute( SQL_string )\n",
    "\n",
    "SQL_string = \"INSERT INTO VINE VALUES ( 1006, \\\"Chardonney\\\", \\\"White\\\", 2016, \\\"Bighorn\\\" )\"\n",
    "\n",
    "cursor.execute( SQL_string )\n",
    "\n",
    "conn.commit()\n",
    "\n",
    "conn.close()"
   ]
  },
  {
   "cell_type": "markdown",
   "metadata": {},
   "source": [
    "Now suppose, that we want to add the column \"PRICE\" to \"VINE\". we can do this by using \"ALTER TABLE\" tablename \"ADD COLUMN\". We set the datatype to be \"REAL\" and choose a DEFAULT value of $1.0$."
   ]
  },
  {
   "cell_type": "code",
   "execution_count": 11,
   "metadata": {},
   "outputs": [
    {
     "name": "stdout",
     "output_type": "stream",
     "text": [
      "(1000, 'La Rose', 'Red', 2013, 'Château La Rose', 1.0)\n",
      "(1001, 'Creek Shiraz', 'Red', 2018, 'Creek', 1.0)\n",
      "(1002, 'Zinfandel', 'Red', 2015, 'Helena', 1.0)\n",
      "(1003, 'Pinot Noir', 'Red', 2014, 'Creek', 1.0)\n",
      "(1004, 'Pinot Noir', 'Red', 2013, 'Helena', 1.0)\n",
      "(1005, 'Riesling Reserve', 'White', 2017, 'Müller', 1.0)\n",
      "(1006, 'Chardonney', 'White', 2016, 'Bighorn', 1.0)\n"
     ]
    }
   ],
   "source": [
    "conn = sqlite3.connect( \"C:\\\\Users\\\\rhopi\\\\OneDrive\\\\Desktop\\\\python dev\\\\database dev\\\\lesson_0002\\\\database.file\" )\n",
    "\n",
    "cursor = conn.cursor()\n",
    "\n",
    "SQL_string = \"ALTER TABLE VINE ADD COLUMN PRICE REAL DEFAULT 1.0\"\n",
    "\n",
    "cursor.execute( SQL_string )\n",
    "\n",
    "conn.commit()\n",
    "\n",
    "SQL_string = \"SELECT * FROM VINE\"\n",
    "\n",
    "rows = cursor.execute( SQL_string ).fetchall()\n",
    "\n",
    "conn.close()\n",
    "\n",
    "\n",
    "\n",
    "for row in rows:\n",
    "    \n",
    "    print( row )"
   ]
  },
  {
   "cell_type": "markdown",
   "metadata": {},
   "source": [
    "Considering the queries, one can combine several queries. The first example shall be \"UNION\", where the results of several queries are united."
   ]
  },
  {
   "cell_type": "code",
   "execution_count": 12,
   "metadata": {},
   "outputs": [
    {
     "name": "stdout",
     "output_type": "stream",
     "text": [
      "('Château La Rose',)\n",
      "('Creek',)\n",
      "('Helena',)\n",
      "('Müller',)\n",
      "('Bighorn',)\n"
     ]
    }
   ],
   "source": [
    "conn = sqlite3.connect( \"C:\\\\Users\\\\rhopi\\\\OneDrive\\\\Desktop\\\\python dev\\\\database dev\\\\lesson_0002\\\\database.file\" )\n",
    "\n",
    "cursor = conn.cursor()\n",
    "\n",
    "SQL_string = \"SELECT DISTINCT PRODUCER FROM VINE\"\n",
    "\n",
    "rows = cursor.execute( SQL_string ).fetchall()\n",
    "\n",
    "conn.close()\n",
    "\n",
    "\n",
    "\n",
    "for row in rows:\n",
    "    \n",
    "    print( row )"
   ]
  },
  {
   "cell_type": "code",
   "execution_count": 13,
   "metadata": {},
   "outputs": [
    {
     "name": "stdout",
     "output_type": "stream",
     "text": [
      "('Bighorn',)\n",
      "('Château La Pointe',)\n",
      "('Château La Rose',)\n",
      "('Creek',)\n",
      "('Helena',)\n",
      "('Müller',)\n"
     ]
    }
   ],
   "source": [
    "conn = sqlite3.connect( \"C:\\\\Users\\\\rhopi\\\\OneDrive\\\\Desktop\\\\python dev\\\\database dev\\\\lesson_0002\\\\database.file\" )\n",
    "\n",
    "cursor = conn.cursor()\n",
    "\n",
    "SQL_string = \"SELECT DISTINCT PRODUCER_NAME FROM PRODUCER\"\n",
    "\n",
    "rows = cursor.execute( SQL_string ).fetchall()\n",
    "\n",
    "conn.close()\n",
    "\n",
    "\n",
    "\n",
    "for row in rows:\n",
    "    \n",
    "    print( row )"
   ]
  },
  {
   "cell_type": "code",
   "execution_count": 14,
   "metadata": {},
   "outputs": [
    {
     "name": "stdout",
     "output_type": "stream",
     "text": [
      "('Bighorn',)\n",
      "('Château La Pointe',)\n",
      "('Château La Rose',)\n",
      "('Creek',)\n",
      "('Helena',)\n",
      "('Müller',)\n"
     ]
    }
   ],
   "source": [
    "conn = sqlite3.connect( \"C:\\\\Users\\\\rhopi\\\\OneDrive\\\\Desktop\\\\python dev\\\\database dev\\\\lesson_0002\\\\database.file\" )\n",
    "\n",
    "cursor = conn.cursor()\n",
    "\n",
    "SQL_string = \"SELECT DISTINCT * FROM ( SELECT DISTINCT PRODUCER FROM VINE UNION SELECT DISTINCT PRODUCER_NAME \\\n",
    "FROM PRODUCER )\"\n",
    " \n",
    "rows = cursor.execute( SQL_string ).fetchall()\n",
    "\n",
    "conn.close()\n",
    "\n",
    "\n",
    "\n",
    "for row in rows:\n",
    "    \n",
    "    print( row )"
   ]
  },
  {
   "cell_type": "markdown",
   "metadata": {},
   "source": [
    "Using the keyword \"EXCEPT\", we can deselect."
   ]
  },
  {
   "cell_type": "code",
   "execution_count": 15,
   "metadata": {},
   "outputs": [
    {
     "name": "stdout",
     "output_type": "stream",
     "text": [
      "('Château La Pointe',)\n"
     ]
    }
   ],
   "source": [
    "conn = sqlite3.connect( \"C:\\\\Users\\\\rhopi\\\\OneDrive\\\\Desktop\\\\python dev\\\\database dev\\\\lesson_0002\\\\database.file\" )\n",
    "\n",
    "cursor = conn.cursor()\n",
    "\n",
    "SQL_string = \"SELECT DISTINCT * FROM ( SELECT DISTINCT PRODUCER_NAME FROM PRODUCER EXCEPT SELECT PRODUCER FROM VINE )\"\n",
    " \n",
    "rows = cursor.execute( SQL_string ).fetchall()\n",
    "\n",
    "conn.close()\n",
    "\n",
    "\n",
    "\n",
    "for row in rows:\n",
    "    \n",
    "    print( row )"
   ]
  },
  {
   "cell_type": "markdown",
   "metadata": {},
   "source": [
    "We can also define implicit functions. For example, we can automatically compute the age of a vine with __current_date__."
   ]
  },
  {
   "cell_type": "code",
   "execution_count": 16,
   "metadata": {},
   "outputs": [
    {
     "name": "stdout",
     "output_type": "stream",
     "text": [
      "('La Rose', 6, 'Château La Rose')\n",
      "('Creek Shiraz', 1, 'Creek')\n",
      "('Zinfandel', 4, 'Helena')\n",
      "('Pinot Noir', 5, 'Creek')\n",
      "('Pinot Noir', 6, 'Helena')\n",
      "('Riesling Reserve', 2, 'Müller')\n",
      "('Chardonney', 3, 'Bighorn')\n"
     ]
    }
   ],
   "source": [
    "conn = sqlite3.connect( \"C:\\\\Users\\\\rhopi\\\\OneDrive\\\\Desktop\\\\python dev\\\\database dev\\\\lesson_0002\\\\database.file\" )\n",
    "\n",
    "cursor = conn.cursor()\n",
    "\n",
    "SQL_string = \"SELECT NAME, (CURRENT_DATE - YEAR), PRODUCER FROM VINE\"\n",
    " \n",
    "rows = cursor.execute( SQL_string ).fetchall()\n",
    "\n",
    "conn.close()\n",
    "\n",
    "\n",
    "\n",
    "for row in rows:\n",
    "    \n",
    "    print( row )"
   ]
  },
  {
   "cell_type": "markdown",
   "metadata": {},
   "source": [
    "Maybe, you want to know, how many red vines there are. Use \"COUNT\"."
   ]
  },
  {
   "cell_type": "code",
   "execution_count": 17,
   "metadata": {},
   "outputs": [
    {
     "name": "stdout",
     "output_type": "stream",
     "text": [
      "(5,)\n"
     ]
    }
   ],
   "source": [
    "conn = sqlite3.connect( \"C:\\\\Users\\\\rhopi\\\\OneDrive\\\\Desktop\\\\python dev\\\\database dev\\\\lesson_0002\\\\database.file\" )\n",
    "\n",
    "cursor = conn.cursor()\n",
    "\n",
    "SQL_string = \"SELECT COUNT(*) FROM VINE WHERE COLOUR = \\\"Red\\\"\"\n",
    " \n",
    "rows = cursor.execute( SQL_string ).fetchall()\n",
    "\n",
    "conn.close()\n",
    "\n",
    "\n",
    "\n",
    "for row in rows:\n",
    "    \n",
    "    print( row )"
   ]
  },
  {
   "cell_type": "markdown",
   "metadata": {},
   "source": [
    "Or, you might want to know, how old the average red vine is. Use \"AVG\"."
   ]
  },
  {
   "cell_type": "code",
   "execution_count": 18,
   "metadata": {},
   "outputs": [
    {
     "name": "stdout",
     "output_type": "stream",
     "text": [
      "(4.4,)\n"
     ]
    }
   ],
   "source": [
    "conn = sqlite3.connect( \"C:\\\\Users\\\\rhopi\\\\OneDrive\\\\Desktop\\\\python dev\\\\database dev\\\\lesson_0002\\\\database.file\" )\n",
    "\n",
    "cursor = conn.cursor()\n",
    "\n",
    "SQL_string = \"SELECT AVG(CURRENT_DATE - YEAR) FROM VINE WHERE COLOUR = \\\"Red\\\"\"\n",
    " \n",
    "rows = cursor.execute( SQL_string ).fetchall()\n",
    "\n",
    "conn.close()\n",
    "\n",
    "\n",
    "\n",
    "for row in rows:\n",
    "    \n",
    "    print( row )"
   ]
  },
  {
   "cell_type": "markdown",
   "metadata": {},
   "source": [
    "Or, you might want to know, how old the oldest red vine is. Use \"MAX\"."
   ]
  },
  {
   "cell_type": "code",
   "execution_count": 19,
   "metadata": {},
   "outputs": [
    {
     "name": "stdout",
     "output_type": "stream",
     "text": [
      "(6,)\n"
     ]
    }
   ],
   "source": [
    "conn = sqlite3.connect( \"C:\\\\Users\\\\rhopi\\\\OneDrive\\\\Desktop\\\\python dev\\\\database dev\\\\lesson_0002\\\\database.file\" )\n",
    "\n",
    "cursor = conn.cursor()\n",
    "\n",
    "SQL_string = \"SELECT MAX(CURRENT_DATE - YEAR) FROM VINE WHERE COLOUR = \\\"Red\\\"\"\n",
    " \n",
    "rows = cursor.execute( SQL_string ).fetchall()\n",
    "\n",
    "conn.close()\n",
    "\n",
    "\n",
    "\n",
    "for row in rows:\n",
    "    \n",
    "    print( row )"
   ]
  },
  {
   "cell_type": "markdown",
   "metadata": {},
   "source": [
    "Or, you might want to know, how many red and white vines there are. Use \"GROUP BY\"."
   ]
  },
  {
   "cell_type": "code",
   "execution_count": 20,
   "metadata": {},
   "outputs": [
    {
     "name": "stdout",
     "output_type": "stream",
     "text": [
      "('Red', 5)\n",
      "('White', 2)\n"
     ]
    }
   ],
   "source": [
    "conn = sqlite3.connect( \"C:\\\\Users\\\\rhopi\\\\OneDrive\\\\Desktop\\\\python dev\\\\database dev\\\\lesson_0002\\\\database.file\" )\n",
    "\n",
    "cursor = conn.cursor()\n",
    "\n",
    "SQL_string = \"SELECT COLOUR, COUNT(*) FROM VINE GROUP BY COLOUR\"\n",
    " \n",
    "rows = cursor.execute( SQL_string ).fetchall()\n",
    "\n",
    "conn.close()\n",
    "\n",
    "\n",
    "\n",
    "for row in rows:\n",
    "    \n",
    "    print( row )"
   ]
  },
  {
   "cell_type": "markdown",
   "metadata": {},
   "source": [
    "Maybe, you want to list all vines, that come from a region, from which several vines come."
   ]
  },
  {
   "cell_type": "code",
   "execution_count": 21,
   "metadata": {},
   "outputs": [
    {
     "name": "stdout",
     "output_type": "stream",
     "text": [
      "(1001, 'Creek Shiraz', 2018, 'Southern Australia')\n",
      "(1002, 'Zinfandel', 2015, 'California')\n",
      "(1003, 'Pinot Noir', 2014, 'Southern Australia')\n",
      "(1004, 'Pinot Noir', 2013, 'California')\n",
      "(1006, 'Chardonney', 2016, 'California')\n"
     ]
    }
   ],
   "source": [
    "conn = sqlite3.connect( \"C:\\\\Users\\\\rhopi\\\\OneDrive\\\\Desktop\\\\python dev\\\\database dev\\\\lesson_0002\\\\database.file\" )\n",
    "\n",
    "cursor = conn.cursor()\n",
    "\n",
    "SQL_string = \"SELECT VINE_ID, NAME, YEAR, PRODUCER.GEOGRAPHIC_REGION FROM VINE, PRODUCER WHERE VINE.PRODUCER =\\\n",
    "PRODUCER.PRODUCER_NAME AND PRODUCER.GEOGRAPHIC_REGION IN ( SELECT PRODUCER.GEOGRAPHIC_REGION FROM VINE, \\\n",
    "PRODUCER WHERE VINE.PRODUCER = PRODUCER.PRODUCER_NAME GROUP BY PRODUCER.GEOGRAPHIC_REGION HAVING COUNT(*) > 1 )\"\n",
    " \n",
    "rows = cursor.execute( SQL_string ).fetchall()\n",
    "\n",
    "conn.close()\n",
    "\n",
    "\n",
    "\n",
    "for row in rows:\n",
    "    \n",
    "    print( row )"
   ]
  },
  {
   "cell_type": "markdown",
   "metadata": {},
   "source": [
    "Maybe, you want to select all vines that come from PRODUCERs whose average vine is older than the average of vines in the database."
   ]
  },
  {
   "cell_type": "code",
   "execution_count": 22,
   "metadata": {},
   "outputs": [
    {
     "name": "stdout",
     "output_type": "stream",
     "text": [
      "(1000, 'La Rose', 2013, 'Château La Rose', 'Bourdeaux')\n",
      "(1002, 'Zinfandel', 2015, 'Helena', 'California')\n",
      "(1004, 'Pinot Noir', 2013, 'Helena', 'California')\n"
     ]
    }
   ],
   "source": [
    "conn = sqlite3.connect( \"C:\\\\Users\\\\rhopi\\\\OneDrive\\\\Desktop\\\\python dev\\\\database dev\\\\lesson_0002\\\\database.file\" )\n",
    "\n",
    "cursor = conn.cursor()\n",
    "\n",
    "SQL_string = \"SELECT VINE_ID, NAME, YEAR, VINE.PRODUCER, PRODUCER.GEOGRAPHIC_REGION FROM VINE, PRODUCER WHERE \\\n",
    "VINE.PRODUCER = PRODUCER.PRODUCER_NAME AND PRODUCER_NAME IN ( SELECT PRODUCER.PRODUCER_NAME FROM PRODUCER, VINE \\\n",
    "WHERE VINE.PRODUCER = PRODUCER.PRODUCER_NAME GROUP BY PRODUCER.PRODUCER_NAME HAVING AVG( CURRENT_DATE - VINE.YEAR )\\\n",
    "> ( SELECT AVG( CURRENT_DATE - YEAR ) FROM VINE ) )\"\n",
    " \n",
    "rows = cursor.execute( SQL_string ).fetchall()\n",
    "\n",
    "conn.close()\n",
    "\n",
    "\n",
    "\n",
    "for row in rows:\n",
    "    \n",
    "    print( row )"
   ]
  },
  {
   "cell_type": "markdown",
   "metadata": {},
   "source": [
    "Let's find out, how many vines there a per GEOGRAPHIC_REGION."
   ]
  },
  {
   "cell_type": "code",
   "execution_count": 23,
   "metadata": {},
   "outputs": [
    {
     "name": "stdout",
     "output_type": "stream",
     "text": [
      "('Bourdeaux', 1)\n",
      "('California', 3)\n",
      "('Hessen', 1)\n",
      "('Southern Australia', 2)\n"
     ]
    }
   ],
   "source": [
    "conn = sqlite3.connect( \"C:\\\\Users\\\\rhopi\\\\OneDrive\\\\Desktop\\\\python dev\\\\database dev\\\\lesson_0002\\\\database.file\" )\n",
    "\n",
    "cursor = conn.cursor()\n",
    "\n",
    "SQL_string = \"SELECT PRODUCER.GEOGRAPHIC_REGION, COUNT( VINE_ID ) FROM PRODUCER, VINE WHERE PRODUCER.PRODUCER_NAME = \\\n",
    "VINE.PRODUCER GROUP BY PRODUCER.GEOGRAPHIC_REGION\"\n",
    " \n",
    "rows = cursor.execute( SQL_string ).fetchall()\n",
    "\n",
    "conn.close()\n",
    "\n",
    "\n",
    "\n",
    "for row in rows:\n",
    "    \n",
    "    print( row )"
   ]
  },
  {
   "cell_type": "markdown",
   "metadata": {},
   "source": [
    "So, this was our intro into SQLite3.<br>\n",
    "Class dismissed."
   ]
  }
 ],
 "metadata": {
  "kernelspec": {
   "display_name": "Python 3",
   "language": "python",
   "name": "python3"
  },
  "language_info": {
   "codemirror_mode": {
    "name": "ipython",
    "version": 3
   },
   "file_extension": ".py",
   "mimetype": "text/x-python",
   "name": "python",
   "nbconvert_exporter": "python",
   "pygments_lexer": "ipython3",
   "version": "3.7.3"
  }
 },
 "nbformat": 4,
 "nbformat_minor": 2
}
